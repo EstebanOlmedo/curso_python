{
 "cells": [
  {
   "cell_type": "markdown",
   "metadata": {},
   "source": [
    "# Kata 9\n",
    "## Ejercicio : Uso de funciones en Python \n",
    "### Ejercicio 1: Trabajar con argumentos en funciones\n"
   ]
  },
  {
   "cell_type": "code",
   "execution_count": 8,
   "metadata": {},
   "outputs": [],
   "source": [
    "def obtener_promedio(valor1, valor2, valor3):\n",
    "\tpromedio = (valor1 + valor2  + valor3) / 3\n",
    "\treturn f\"\"\"El promedio de combustible es {promedio}\n",
    "{'-'*50}\n",
    "valor del tanque 1: {valor1}\n",
    "valor del tanque 2: {valor2}\n",
    "valor del tanque 3: {valor3}\n",
    "\"\"\"\n"
   ]
  },
  {
   "cell_type": "code",
   "execution_count": 9,
   "metadata": {},
   "outputs": [
    {
     "name": "stdout",
     "output_type": "stream",
     "text": [
      "El promedio de combustible es 13.333333333333334\n",
      "--------------------------------------------------\n",
      "valor del tanque 1: 5\n",
      "valor del tanque 2: 15\n",
      "valor del tanque 3: 20\n",
      "\n"
     ]
    }
   ],
   "source": [
    "print(obtener_promedio(5,15,20))"
   ]
  },
  {
   "cell_type": "code",
   "execution_count": 10,
   "metadata": {},
   "outputs": [],
   "source": [
    "def promedio(valor1, valor2, valor3):\n",
    "\treturn (valor1 + valor2 + valor3) / 3"
   ]
  },
  {
   "cell_type": "code",
   "execution_count": 11,
   "metadata": {},
   "outputs": [],
   "source": [
    "def obtener_informe(valor1, valor2, valor3):\n",
    "\treturn f\"\"\"El promedio de combustible es {promedio(valor1, valor2, valor3)}\n",
    "{'-'*50}\n",
    "valor del tanque 1: {valor1}\n",
    "valor del tanque 2: {valor2}\n",
    "valor del tanque 3: {valor3}\n",
    "\"\"\"\n",
    "\t"
   ]
  },
  {
   "cell_type": "code",
   "execution_count": 13,
   "metadata": {},
   "outputs": [
    {
     "name": "stdout",
     "output_type": "stream",
     "text": [
      "El promedio de combustible es 16.666666666666668\n",
      "--------------------------------------------------\n",
      "valor del tanque 1: 15\n",
      "valor del tanque 2: 5\n",
      "valor del tanque 3: 30\n",
      "\n"
     ]
    }
   ],
   "source": [
    "print(obtener_informe(15,5,30))"
   ]
  }
 ],
 "metadata": {
  "interpreter": {
   "hash": "3874ccf3cdd924d405677b6affbeea2f74a6fe328a8d8368a21fe4e043197061"
  },
  "kernelspec": {
   "display_name": "Python 3.9.7 64-bit",
   "language": "python",
   "name": "python3"
  },
  "language_info": {
   "codemirror_mode": {
    "name": "ipython",
    "version": 3
   },
   "file_extension": ".py",
   "mimetype": "text/x-python",
   "name": "python",
   "nbconvert_exporter": "python",
   "pygments_lexer": "ipython3",
   "version": "3.9.7"
  },
  "orig_nbformat": 4
 },
 "nbformat": 4,
 "nbformat_minor": 2
}
