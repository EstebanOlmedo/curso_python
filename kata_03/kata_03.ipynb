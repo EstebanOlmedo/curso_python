{
 "cells": [
  {
   "cell_type": "markdown",
   "metadata": {},
   "source": [
    "# Kata 3\n",
    "\n",
    "## Ejercicio - Escribir declaraciones `if`, `else` y `elif`\n",
    "\n",
    "### Problema 1"
   ]
  },
  {
   "cell_type": "code",
   "execution_count": 1,
   "metadata": {},
   "outputs": [
    {
     "name": "stdout",
     "output_type": "stream",
     "text": [
      "ADVERTENCIA\n"
     ]
    }
   ],
   "source": [
    "asteroid_velocity = 49\n",
    "\n",
    "if asteroid_velocity > 25:\n",
    "\tprint('ADVERTENCIA')\n",
    "else:\n",
    "\tprint('Todo está bien')"
   ]
  },
  {
   "cell_type": "markdown",
   "metadata": {},
   "source": [
    "### Problema 2"
   ]
  },
  {
   "cell_type": "code",
   "execution_count": null,
   "metadata": {},
   "outputs": [],
   "source": [
    "asteroid_velocity = 19\n",
    "\n",
    "if asteroid_velocity >= 20:\n",
    "\tprint('Atención terricolas hay una luz en el cielo')\n",
    "else:\n",
    "\tprint('Cielo despejado')"
   ]
  },
  {
   "cell_type": "markdown",
   "metadata": {},
   "source": [
    "### Problema 3"
   ]
  },
  {
   "cell_type": "code",
   "execution_count": null,
   "metadata": {},
   "outputs": [],
   "source": [
    "asteroid_velocity = 24\n",
    "asteroid_size = 30 \n",
    "\n",
    "if asteroid_velocity >= 25 and asteroid_size >= 25 and asteroid_size <= 1000:\n",
    "\tprint('Peligro inminente!')\n",
    "elif asteroid_velocity >= 20:\n",
    "\tprint('Atención terricolas hay una luz en el cielo')\n",
    "else:\n",
    "\tprint('Nada pasa aqui')"
   ]
  }
 ],
 "metadata": {
  "interpreter": {
   "hash": "228ce23fea13d28cfc2acae4ac15972a2d6b11b84d4c9cfba63aaef36c75f1c0"
  },
  "kernelspec": {
   "display_name": "Python 3.10.2 64-bit",
   "language": "python",
   "name": "python3"
  },
  "language_info": {
   "codemirror_mode": {
    "name": "ipython",
    "version": 3
   },
   "file_extension": ".py",
   "mimetype": "text/x-python",
   "name": "python",
   "nbconvert_exporter": "python",
   "pygments_lexer": "ipython3",
   "version": "3.10.2"
  },
  "orig_nbformat": 4
 },
 "nbformat": 4,
 "nbformat_minor": 2
}
