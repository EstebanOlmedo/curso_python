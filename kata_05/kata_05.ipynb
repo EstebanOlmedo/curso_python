{
 "cells": [
  {
   "cell_type": "markdown",
   "metadata": {},
   "source": [
    "# Kata 5\n",
    "## Ejercicio 1 : Utilizar operadores aritméticos\n"
   ]
  },
  {
   "cell_type": "code",
   "execution_count": 1,
   "metadata": {},
   "outputs": [],
   "source": [
    "distancia_tierra = 149597870 # km\n",
    "distancia_jupiter = 778547200 # km"
   ]
  },
  {
   "cell_type": "code",
   "execution_count": 4,
   "metadata": {},
   "outputs": [
    {
     "name": "stdout",
     "output_type": "stream",
     "text": [
      "La distancia entre los planetas es 628949330 km o 390577533.93 millas\n"
     ]
    }
   ],
   "source": [
    "distancia_entre_planetas = (distancia_jupiter - distancia_tierra)\n",
    "print(f'La distancia entre los planetas es {distancia_entre_planetas} km o {distancia_entre_planetas*0.621} millas')"
   ]
  },
  {
   "cell_type": "markdown",
   "metadata": {},
   "source": [
    "## Ejercicio 2: Convertir cadenas en números y usar valores absolutos"
   ]
  },
  {
   "cell_type": "code",
   "execution_count": 6,
   "metadata": {},
   "outputs": [],
   "source": [
    "distancia_1 = input('Ingresa la distancia del planeta 1: ')\n",
    "distancia_2 = input('Ingresa la distancia del planeta 2: ')"
   ]
  },
  {
   "cell_type": "code",
   "execution_count": 7,
   "metadata": {},
   "outputs": [],
   "source": [
    "distancia_1 = int(distancia_1)\n",
    "distancia_2 = int(distancia_2)"
   ]
  },
  {
   "cell_type": "code",
   "execution_count": 8,
   "metadata": {},
   "outputs": [
    {
     "name": "stdout",
     "output_type": "stream",
     "text": [
      "La distancia entre los planetas es 516364100 km o 320662106.1 millas\n"
     ]
    }
   ],
   "source": [
    "distancia_entre_planetas = abs(distancia_1 - distancia_2)\n",
    "print(f'La distancia entre los planetas es {distancia_entre_planetas} km o {distancia_entre_planetas*0.621} millas')"
   ]
  }
 ],
 "metadata": {
  "interpreter": {
   "hash": "3874ccf3cdd924d405677b6affbeea2f74a6fe328a8d8368a21fe4e043197061"
  },
  "kernelspec": {
   "display_name": "Python 3.9.7 64-bit",
   "language": "python",
   "name": "python3"
  },
  "language_info": {
   "codemirror_mode": {
    "name": "ipython",
    "version": 3
   },
   "file_extension": ".py",
   "mimetype": "text/x-python",
   "name": "python",
   "nbconvert_exporter": "python",
   "pygments_lexer": "ipython3",
   "version": "3.9.7"
  },
  "orig_nbformat": 4
 },
 "nbformat": 4,
 "nbformat_minor": 2
}
